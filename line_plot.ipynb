{
 "cells": [
  {
   "cell_type": "code",
   "execution_count": 3,
   "id": "d56cefa6-9cc5-49c1-b8e1-776737536368",
   "metadata": {},
   "outputs": [],
   "source": [
    "import matplotlib.pyplot as plt\n",
    "import numpy as np\n",
    "import pandas as pd\n",
    "plt.style.use(\"dark_background\")"
   ]
  },
  {
   "cell_type": "code",
   "execution_count": 4,
   "id": "d1dbc556-307f-42ff-9258-21d25622de37",
   "metadata": {},
   "outputs": [],
   "source": [
    "rollNo = range(1,10)\n",
    "marks = range(10,100,10)"
   ]
  },
  {
   "cell_type": "code",
   "execution_count": null,
   "id": "26b4afca-b699-4c92-a409-458355bb2588",
   "metadata": {},
   "outputs": [],
   "source": [
    "plt.line(rollNo, marks)\n",
    "plt.sho"
   ]
  }
 ],
 "metadata": {
  "kernelspec": {
   "display_name": "Python 3 (ipykernel)",
   "language": "python",
   "name": "python3"
  },
  "language_info": {
   "codemirror_mode": {
    "name": "ipython",
    "version": 3
   },
   "file_extension": ".py",
   "mimetype": "text/x-python",
   "name": "python",
   "nbconvert_exporter": "python",
   "pygments_lexer": "ipython3",
   "version": "3.11.3"
  }
 },
 "nbformat": 4,
 "nbformat_minor": 5
}
